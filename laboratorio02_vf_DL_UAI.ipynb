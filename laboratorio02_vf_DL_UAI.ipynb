{
  "nbformat": 4,
  "nbformat_minor": 0,
  "metadata": {
    "colab": {
      "name": "laboratorio02_vf_DL_UAI.ipynb",
      "provenance": [],
      "collapsed_sections": [],
      "toc_visible": true
    },
    "kernelspec": {
      "name": "python3",
      "display_name": "Python 3"
    }
  },
  "cells": [
    {
      "cell_type": "markdown",
      "metadata": {
        "id": "qk5j4fyM-Kwr",
        "colab_type": "text"
      },
      "source": [
        "# Taller 02: Redes recurrentes\n",
        "\n",
        "**Integrantes:** (*Máximo grupos de 3*)\n",
        "\n",
        "*   Luis Ojeda Gallegos\n",
        "*   Paulo Espinoza Arriagada\n",
        "*   Eduardo Moraga Ortega\n",
        "\n",
        "\n",
        "\n",
        "El taller tiene como objetivo construir un clasificador utilizando redes recurrentes LSTM. Para esto, se replicará el problema visto en clases para la clasificación de nombres y apellidos al País que pertenecen. Una vez terminado la implementación del taller se pide comparar la eficiencia de ambos clasificadores a partir de la matriz de confusión.\n",
        "\n",
        "Se debe tener en cuenta que en la evaluación de resultados se deben utilizar los mismos ejemplos. Por lo que deberá evaluar simultáneamente el clasificador de red recurrente simple y la red LSTM.\n",
        "\n",
        "Las métricas solicitadas para la comparación de ambos clasifificadores son: Tasa de acierto, presición, sensibilidad (*recall*) y f1-score.\n",
        "\n",
        "**Referencias:**\n",
        "https://scikit-learn.org/stable/modules/generated/sklearn.metrics.classification_report.html#sklearn.metrics.classification_report \n",
        "\n",
        "## 1. Preparar los datos\n",
        "\n",
        "Utilizar el código mostrado en clases para cargar y acondicionar los datos:"
      ]
    },
    {
      "cell_type": "code",
      "metadata": {
        "id": "ZFh-d6Zh-JqV",
        "colab_type": "code",
        "colab": {}
      },
      "source": [
        "# librerias que utilizaremos en el modelo\n",
        "import unicodedata\n",
        "import string\n",
        "import glob \n",
        "import os\n",
        "import torch\n",
        "import torch.nn as nn\n",
        "import random\n",
        "import time\n",
        "import math\n",
        "import matplotlib.pyplot as plt\n",
        "import matplotlib.ticker as ticker\n",
        "import torch.optim as optim\n",
        "import torch.nn.functional as F\n",
        "from sklearn.metrics import confusion_matrix, classification_report"
      ],
      "execution_count": null,
      "outputs": []
    },
    {
      "cell_type": "code",
      "metadata": {
        "colab_type": "code",
        "id": "c9Bebj-Xh7vk",
        "colab": {
          "base_uri": "https://localhost:8080/",
          "height": 54
        },
        "outputId": "ea42b857-4290-4165-c726-559a23155dcb"
      },
      "source": [
        "from google.colab import drive\n",
        "drive.mount('/content/drive')"
      ],
      "execution_count": null,
      "outputs": [
        {
          "output_type": "stream",
          "text": [
            "Drive already mounted at /content/drive; to attempt to forcibly remount, call drive.mount(\"/content/drive\", force_remount=True).\n"
          ],
          "name": "stdout"
        }
      ]
    },
    {
      "cell_type": "code",
      "metadata": {
        "id": "zbga2qCq3U8j",
        "colab_type": "code",
        "colab": {}
      },
      "source": [
        "# Ubicacion en Google Drive de los archivos \n",
        "path = '/content/drive/My Drive/Deep Learning - Practica/names'"
      ],
      "execution_count": null,
      "outputs": []
    },
    {
      "cell_type": "code",
      "metadata": {
        "id": "1RSDzoknNGWD",
        "colab_type": "code",
        "colab": {
          "base_uri": "https://localhost:8080/",
          "height": 88
        },
        "outputId": "1fb5d059-25d3-4af4-f38b-ce636c68054f"
      },
      "source": [
        "# cargamos las 52 letras (mayusculas y minisculas) + los caracteres especiales\n",
        "all_letters = string.ascii_letters + \" .,;'\"\n",
        "n_letters = len(all_letters)\n",
        "\n",
        "# Se define funcion para retirar las tildes\n",
        "def unicodeToAscii(s):\n",
        "  return ''.join(\n",
        "      c for c in unicodedata.normalize('NFD', s)\n",
        "      if unicodedata.category(c) != 'Mn'\n",
        "      and c in all_letters)\n",
        "  \n",
        "# Funcion para leer archivos separados por espacios\n",
        "def readLines(filenames):\n",
        "  lines = open(filename, encoding='utf-8').read().strip().split('\\n')\n",
        "  return [unicodeToAscii(line) for line in lines]\n",
        "\n",
        "# Leer los archivos y los cargaremos en un estructura de tipo diccionario\n",
        "category_lines = {}\n",
        "all_categories = []\n",
        "\n",
        "\n",
        "for filename in glob.glob(f'{path}/*.txt'):\n",
        "  category = os.path.splitext(os.path.basename(filename))[0]\n",
        "  all_categories.append(category)\n",
        "  lines = readLines(filename)\n",
        "  category_lines[category] = lines\n",
        "\n",
        "n_categories = len(all_categories)\n",
        "print(n_categories)\n",
        "print(all_categories)\n",
        "print(len(lines))"
      ],
      "execution_count": null,
      "outputs": [
        {
          "output_type": "stream",
          "text": [
            "18\n",
            "['German', 'Korean', 'Italian', 'Portuguese', 'French', 'Japanese', 'Vietnamese', 'Polish', 'Dutch', 'Spanish', 'Russian', 'Irish', 'Scottish', 'Czech', 'Chinese', 'English', 'Arabic', 'Greek']\n",
            "195\n"
          ],
          "name": "stdout"
        }
      ]
    },
    {
      "cell_type": "markdown",
      "metadata": {
        "id": "f1VKQpg9FDAo",
        "colab_type": "text"
      },
      "source": [
        "## 2. Preparar los datos a formato Pytorch para red neuronal recurrente\n",
        "\n",
        "Convertirmos las palabras (apellidos y nombres) a formato ***one-hot vector***. Además se contruye a formato tensor para poder utilizar la GPU vía Pytorch."
      ]
    },
    {
      "cell_type": "code",
      "metadata": {
        "id": "5vmM0ErjFD56",
        "colab_type": "code",
        "colab": {
          "base_uri": "https://localhost:8080/",
          "height": 510
        },
        "outputId": "2ead8bbe-fe44-4350-d226-7fb27434d2f4"
      },
      "source": [
        "# Encontrar el indice de una letra en all_letters\n",
        "def letterToIndex(letter):\n",
        "  return all_letters.find(letter)\n",
        "\n",
        "# Construir un vector one-hot letter (Ilustrativo)\n",
        "def letterToTensor(letter):\n",
        "  tensor = torch.zeros(1, n_letters)\n",
        "  tensor[0][letterToIndex(letter)] = 1\n",
        "  return tensor\n",
        "\n",
        "def lineToTensor(line):\n",
        "  tensor = torch.zeros(len(line), 1, n_letters)\n",
        "  for li, letter in enumerate(line):\n",
        "    tensor[li][0][letterToIndex(letter)] = 1\n",
        "  return tensor\n",
        "\n",
        "def categoryFromOutput(output):\n",
        "  top_n, top_i = output.topk(1)\n",
        "  category_i = top_i[0].item()\n",
        "  return all_categories[category_i], category_i\n",
        "\n",
        "# probare con mi apellido\n",
        "print(lineToTensor('ortega'))"
      ],
      "execution_count": null,
      "outputs": [
        {
          "output_type": "stream",
          "text": [
            "tensor([[[0., 0., 0., 0., 0., 0., 0., 0., 0., 0., 0., 0., 0., 0., 1., 0., 0.,\n",
            "          0., 0., 0., 0., 0., 0., 0., 0., 0., 0., 0., 0., 0., 0., 0., 0., 0.,\n",
            "          0., 0., 0., 0., 0., 0., 0., 0., 0., 0., 0., 0., 0., 0., 0., 0., 0.,\n",
            "          0., 0., 0., 0., 0., 0.]],\n",
            "\n",
            "        [[0., 0., 0., 0., 0., 0., 0., 0., 0., 0., 0., 0., 0., 0., 0., 0., 0.,\n",
            "          1., 0., 0., 0., 0., 0., 0., 0., 0., 0., 0., 0., 0., 0., 0., 0., 0.,\n",
            "          0., 0., 0., 0., 0., 0., 0., 0., 0., 0., 0., 0., 0., 0., 0., 0., 0.,\n",
            "          0., 0., 0., 0., 0., 0.]],\n",
            "\n",
            "        [[0., 0., 0., 0., 0., 0., 0., 0., 0., 0., 0., 0., 0., 0., 0., 0., 0.,\n",
            "          0., 0., 1., 0., 0., 0., 0., 0., 0., 0., 0., 0., 0., 0., 0., 0., 0.,\n",
            "          0., 0., 0., 0., 0., 0., 0., 0., 0., 0., 0., 0., 0., 0., 0., 0., 0.,\n",
            "          0., 0., 0., 0., 0., 0.]],\n",
            "\n",
            "        [[0., 0., 0., 0., 1., 0., 0., 0., 0., 0., 0., 0., 0., 0., 0., 0., 0.,\n",
            "          0., 0., 0., 0., 0., 0., 0., 0., 0., 0., 0., 0., 0., 0., 0., 0., 0.,\n",
            "          0., 0., 0., 0., 0., 0., 0., 0., 0., 0., 0., 0., 0., 0., 0., 0., 0.,\n",
            "          0., 0., 0., 0., 0., 0.]],\n",
            "\n",
            "        [[0., 0., 0., 0., 0., 0., 1., 0., 0., 0., 0., 0., 0., 0., 0., 0., 0.,\n",
            "          0., 0., 0., 0., 0., 0., 0., 0., 0., 0., 0., 0., 0., 0., 0., 0., 0.,\n",
            "          0., 0., 0., 0., 0., 0., 0., 0., 0., 0., 0., 0., 0., 0., 0., 0., 0.,\n",
            "          0., 0., 0., 0., 0., 0.]],\n",
            "\n",
            "        [[1., 0., 0., 0., 0., 0., 0., 0., 0., 0., 0., 0., 0., 0., 0., 0., 0.,\n",
            "          0., 0., 0., 0., 0., 0., 0., 0., 0., 0., 0., 0., 0., 0., 0., 0., 0.,\n",
            "          0., 0., 0., 0., 0., 0., 0., 0., 0., 0., 0., 0., 0., 0., 0., 0., 0.,\n",
            "          0., 0., 0., 0., 0., 0.]]])\n"
          ],
          "name": "stdout"
        }
      ]
    },
    {
      "cell_type": "markdown",
      "metadata": {
        "id": "5OTG_c0lFvju",
        "colab_type": "text"
      },
      "source": [
        "## 3. Crear modelos\n",
        "\n",
        "Para comparar los resultados se pide construir:\n",
        "\n",
        "\n",
        "*   Modelo de red neuronal recurrente simple (vista en clases)\n",
        "*   Modelo de red neuronal LSTM (Implementar)\n",
        "\n"
      ]
    },
    {
      "cell_type": "code",
      "metadata": {
        "id": "K7lCD86jGKrS",
        "colab_type": "code",
        "colab": {}
      },
      "source": [
        "# Modelo de red neuronal recurrente simple, utilizado por el profesor en clases\n",
        "class RNN(nn.Module):\n",
        "  def __init__(self, input_size, hidden_size, output_size):\n",
        "    super(RNN, self).__init__()\n",
        "\n",
        "    # Construir componentes\n",
        "    self.hidden_size = hidden_size\n",
        "    # Salida de estado oculto\n",
        "    self.i2h = nn.Linear(input_size + hidden_size, hidden_size)\n",
        "    # Salida a estimar\n",
        "    self.i2o = nn.Linear(input_size + hidden_size, output_size)\n",
        "    self.softmax = nn.LogSoftmax(dim=1)\n",
        "\n",
        "  def forward(self, input, hidden):\n",
        "    combined = torch.cat((input, hidden), 1) # vector --> [1 x (input + hidden)]\n",
        "    hidden = self.i2h(combined)\n",
        "    output = self.i2o(combined)\n",
        "    output = self.softmax(output)\n",
        "    return output, hidden\n",
        "\n",
        "  def initHidden(self):\n",
        "    return torch.zeros(1, self.hidden_size)\n",
        "\n",
        "n_hidden = 128\n",
        "# se crea la instancia de rnn\n",
        "rnn = RNN(n_letters, n_hidden, n_categories)"
      ],
      "execution_count": null,
      "outputs": []
    },
    {
      "cell_type": "code",
      "metadata": {
        "id": "upQQez_FGLBV",
        "colab_type": "code",
        "colab": {}
      },
      "source": [
        "# Modelo de red neuronal LSTM, propuesto para el laboratorio\n",
        "class lstm_net(nn.Module):\n",
        "    def __init__(self, input_size, hidden_size, output_size):\n",
        "        super(lstm_net, self).__init__()\n",
        "        self.hidden_size = hidden_size\n",
        "        self.input_size = input_size\n",
        "\n",
        "        #LSTM\n",
        "        self.lstm = nn.LSTM(input_size, hidden_size)\n",
        "        self.hidden2Cat = nn.Linear(hidden_size, output_size)\n",
        "        self.hidden = self.init_hidden()\n",
        "\n",
        "    def forward(self, input):\n",
        "\n",
        "        lstm_out, self.hidden = self.lstm(input, self.hidden)\n",
        "        output = self.hidden2Cat(lstm_out[-1]) #many to one\n",
        "        output = F.log_softmax(output, dim=1)\n",
        "\n",
        "        return output\n",
        "\n",
        "    def init_hidden(self):\n",
        "        return (torch.zeros(1, 1, self.hidden_size),\n",
        "                torch.zeros(1, 1, self.hidden_size))\n",
        "        \n",
        "lstm = lstm_net(n_letters, n_hidden, n_categories)"
      ],
      "execution_count": null,
      "outputs": []
    },
    {
      "cell_type": "markdown",
      "metadata": {
        "id": "6i1RvGipGRti",
        "colab_type": "text"
      },
      "source": [
        "## 5. Generación de ejemplos aleatorios\n",
        "\n",
        "Como se tienen diferentes palabras y categorías es que se optó por utilizar ejemplos generados de forma aleatoria. \n",
        "\n",
        "Para entrenar los modelos utilizaremos los mismo ejemplos generados por `randomChoiceExample`. Se debe considerar está condición en la implementación."
      ]
    },
    {
      "cell_type": "code",
      "metadata": {
        "id": "CQsL8tzxG5P7",
        "colab_type": "code",
        "colab": {
          "base_uri": "https://localhost:8080/",
          "height": 394
        },
        "outputId": "953bb584-0150-4c94-982d-e5c425a3ec87"
      },
      "source": [
        "# Implementación randomTrainingExample()\n",
        "\n",
        "# Elige un elemento de lista en forma aleatoria\n",
        "def randomChoice(lista):\n",
        "  return lista[random.randint(0, len(lista)-1)]\n",
        "\n",
        "def randomTrainingExample():\n",
        "  category = randomChoice(all_categories)\n",
        "  # Selecciono la palabra (nombre) de una categoria\n",
        "  line = randomChoice(category_lines[category])\n",
        "  # Convertir tensores\n",
        "  category_tensor = torch.tensor([all_categories.index(category)], dtype=torch.long)\n",
        "  line_tensor = lineToTensor(line)\n",
        "  return category, line, category_tensor, line_tensor\n",
        "\n",
        "print(all_categories)\n",
        "for i in range(20):\n",
        "  category, line, category_tensor, line_tensor = randomTrainingExample()\n",
        "  print('categoria=', category, '/ palabra=', line)"
      ],
      "execution_count": null,
      "outputs": [
        {
          "output_type": "stream",
          "text": [
            "['German', 'Korean', 'Italian', 'Portuguese', 'French', 'Japanese', 'Vietnamese', 'Polish', 'Dutch', 'Spanish', 'Russian', 'Irish', 'Scottish', 'Czech', 'Chinese', 'English', 'Arabic', 'Greek']\n",
            "categoria= Japanese / palabra= Utagawa\n",
            "categoria= Russian / palabra= Mikhailov\n",
            "categoria= Spanish / palabra= Espinoza\n",
            "categoria= Dutch / palabra= Rooijakker\n",
            "categoria= Irish / palabra= O'Grady\n",
            "categoria= Russian / palabra= Enyagin\n",
            "categoria= Czech / palabra= Koliha\n",
            "categoria= Irish / palabra= Rhys\n",
            "categoria= Czech / palabra= Cerny\n",
            "categoria= Portuguese / palabra= Duarte\n",
            "categoria= German / palabra= Faerber\n",
            "categoria= Russian / palabra= Rogatkin\n",
            "categoria= Vietnamese / palabra= Thuy\n",
            "categoria= Dutch / palabra= Ramakers\n",
            "categoria= German / palabra= Otto\n",
            "categoria= Russian / palabra= Vasyuk\n",
            "categoria= Vietnamese / palabra= Vinh\n",
            "categoria= French / palabra= Martel\n",
            "categoria= Dutch / palabra= Meisner\n",
            "categoria= Korean / palabra= Son\n"
          ],
          "name": "stdout"
        }
      ]
    },
    {
      "cell_type": "markdown",
      "metadata": {
        "id": "tu2TrVbyHA3S",
        "colab_type": "text"
      },
      "source": [
        "## 6. Entrenamiento de los modelos\n",
        "\n",
        "Para el entrenamiento se utilizarán los **mismos parámetros utilizados en clases para entrenar ambos modelos**. Se recomienda entrenar ambos modelos en el mismo ciclo.\n"
      ]
    },
    {
      "cell_type": "code",
      "metadata": {
        "id": "a1mhSDxYIXdJ",
        "colab_type": "code",
        "colab": {
          "base_uri": "https://localhost:8080/",
          "height": 748
        },
        "outputId": "985a94cd-8799-4b07-8a5b-84952e2c19b0"
      },
      "source": [
        "# Definir función de pérdida para ambos modelos\n",
        "# se utilizará NLLLoss() dado que las salidas tienen log_softmax\n",
        "criterion = nn.NLLLoss()\n",
        "\n",
        "# Definir tasa de aprendizaje\n",
        "learning_rate = 0.005 # Esta tasa es por defecto la utilizada por el profesor\n",
        "learning_rate2 = 0.001 # Esta tasa de selecciono luego de iterar con varias de ellas e utilizar la mejor\n",
        "\n",
        "# Definir Optimizador para LSTM\n",
        "optimizer = optim.Adam(lstm.parameters(), lr=learning_rate2)\n",
        "\n",
        "# Función de entrenamiento RNN\n",
        "def train(category_tensor, line_tensor):\n",
        "  # Inicializar la capa hidden en cero\n",
        "  hidden = rnn.initHidden()\n",
        "\n",
        "  rnn.zero_grad()\n",
        "\n",
        "  for i in range(line_tensor.size()[0]):\n",
        "    output, hidden = rnn(line_tensor[i], hidden)\n",
        "\n",
        "  loss = criterion(output, category_tensor)\n",
        "  loss.backward()\n",
        "\n",
        "  # Actualizar los parametros del modelo\n",
        "  for p in rnn.parameters():\n",
        "    p.data.add_(p.grad.data, alpha=-learning_rate)\n",
        "\n",
        "  return output, loss.item()\n",
        "\n",
        "# Función de entrenamiento LSTM\n",
        "def train2(category_tensor, line_tensor):\n",
        "\n",
        "    lstm.zero_grad()\n",
        "    lstm.hidden = lstm.init_hidden()\n",
        "\n",
        "    output = lstm(line_tensor)[-1]\n",
        "\n",
        "    loss = criterion(output.unsqueeze(0), category_tensor)\n",
        "    loss.backward()\n",
        "\n",
        "    optimizer.step()\n",
        "\n",
        "    return output.unsqueeze(0), loss.item()\n",
        "\n",
        "# Entrenamiento \n",
        "# Como son modelos distintos y a fin de ajustar mejor el modelo LSTM se utilizaran\n",
        "# más iteraciones para el caso de este ultimo modelo, es por eso que abrimos las variables en 2\n",
        "# Cabe destacar que LSTM siempre necesita, dada su estructura, mayor numero de iteraciones\n",
        "\n",
        "n_iters = 100000\n",
        "n_iters2 = 250000\n",
        "print_every = 5000\n",
        "print_every2 = 12500\n",
        "plot_every = 1000\n",
        "plot_every2 = 2500\n",
        "\n",
        "# Guardamos la perdidas\n",
        "# Tambien almacenamos en dos variables distintas\n",
        "current_loss = 0\n",
        "all_losses = []\n",
        "current_loss2 = 0\n",
        "all_losses2 = []\n",
        "\n",
        "# Se define funcion para medir el tiempo de \n",
        "def timeSince(since):\n",
        "  now = time.time()\n",
        "  s = now -since\n",
        "  m = math.floor(s/60)\n",
        "  s -= m *60\n",
        "  return '%dm %ds' % (m, s)\n",
        "\n",
        "start = time.time()\n",
        "\n",
        "print(\"********************** Modelo RNN **********************\")\n",
        "for iter in range(1, n_iters + 1):\n",
        "  # Obtener una categoria y una palabra de forma aleatoria\n",
        "  category, line, category_tensor, line_tensor = randomTrainingExample()\n",
        "  output, loss = train(category_tensor, line_tensor)\n",
        "  current_loss += loss\n",
        "\n",
        "  # Imprimir los resultados\n",
        "  if iter % print_every == 0: \n",
        "    guess, guess_i = categoryFromOutput(output)\n",
        "    correct = 'OK' if guess == category else 'ERROR (%s)' % category\n",
        "    print('%d %d%% (%s) %.4f %s / %s %s' % (iter, iter/n_iters * 100, timeSince(start),loss, line, guess, correct))\n",
        "    \n",
        "  if iter % plot_every == 0:\n",
        "    all_losses.append(current_loss / plot_every)\n",
        "    current_loss = 0\n",
        "\n",
        "print()\n",
        "print(\"********************** Modelo LSTM **********************\")\n",
        "\n",
        "for iter in range(1, n_iters2 + 1):\n",
        "    category2, line2, category_tensor2, line_tensor2 = randomTrainingExample()\n",
        "    #print(line_tensor)\n",
        "    output2, loss2 = train2(category_tensor2, line_tensor2)\n",
        "    current_loss2 += loss2\n",
        "\n",
        "    # Print iter number, loss, name and guess\n",
        "    if iter % print_every2 == 0:\n",
        "        guess2, guess_i2 = categoryFromOutput(output2)\n",
        "        correct = 'OK' if guess2 == category2 else 'ERROR (%s)' % category2\n",
        "        print('%d %d%% (%s) %.4f %s / %s %s' % (iter, iter / n_iters2 * 100, timeSince(start), loss2, line2, guess2, correct))\n",
        "\n",
        "    # Add current loss avg to list of losses\n",
        "    if iter % plot_every2 == 0:\n",
        "        all_losses2.append(current_loss2 / plot_every2)\n",
        "        current_loss2 = 0\n"
      ],
      "execution_count": null,
      "outputs": [
        {
          "output_type": "stream",
          "text": [
            "********************** Modelo RNN **********************\n",
            "5000 5% (0m 5s) 2.6707 Tapia / Arabic ERROR (Spanish)\n",
            "10000 10% (0m 11s) 2.4123 Healey / Czech ERROR (English)\n",
            "15000 15% (0m 17s) 2.1333 Romao / Czech ERROR (Portuguese)\n",
            "20000 20% (0m 22s) 1.6520 Garza / Portuguese ERROR (Spanish)\n",
            "25000 25% (0m 28s) 1.0295 Seo / Chinese ERROR (Korean)\n",
            "30000 30% (0m 34s) 0.6162 Eganov / Russian OK\n",
            "35000 35% (0m 40s) 2.5240 Rihman / Irish ERROR (Russian)\n",
            "40000 40% (0m 45s) 1.3330 Sartre / French OK\n",
            "45000 45% (0m 51s) 1.5442 Emmons / English OK\n",
            "50000 50% (0m 57s) 2.2070 Ramaaker / French ERROR (Dutch)\n",
            "55000 55% (1m 2s) 1.8166 Drago / Spanish ERROR (Italian)\n",
            "60000 60% (1m 8s) 1.2342 Chavarria / Spanish OK\n",
            "65000 65% (1m 14s) 1.1973 Ding / Vietnamese ERROR (Chinese)\n",
            "70000 70% (1m 19s) 1.9111 Gudojnik / Czech ERROR (Russian)\n",
            "75000 75% (1m 25s) 1.2378 Donnell / Irish OK\n",
            "80000 80% (1m 31s) 0.8048 Favreau / French OK\n",
            "85000 85% (1m 37s) 0.8096 Maslanka / Polish OK\n",
            "90000 90% (1m 42s) 0.4443 Zhovtun / Russian OK\n",
            "95000 95% (1m 48s) 0.5433 Maloof / Arabic OK\n",
            "100000 100% (1m 54s) 3.6744 Nifterik / Czech ERROR (Dutch)\n",
            "\n",
            "********************** Modelo LSTM **********************\n",
            "12500 5% (2m 26s) 2.7236 Touma / Spanish ERROR (Arabic)\n",
            "25000 10% (2m 58s) 1.5954 Bao / Vietnamese ERROR (Chinese)\n",
            "37500 15% (3m 30s) 0.8716 Markwardt / German OK\n",
            "50000 20% (4m 3s) 0.0511 Etxebarria / Spanish OK\n",
            "62500 25% (4m 35s) 0.6442 William / Irish OK\n",
            "75000 30% (5m 7s) 0.0735 Gebara / Spanish OK\n",
            "87500 35% (5m 39s) 0.0240 Zwolenksy / Czech OK\n",
            "100000 40% (6m 12s) 0.0001 Bahar / Arabic OK\n",
            "112500 45% (6m 45s) 0.0084 Kattan / Arabic OK\n",
            "125000 50% (7m 18s) 0.0308 Nazario / Italian OK\n",
            "137500 55% (7m 51s) 3.0121 Costa / Portuguese ERROR (Spanish)\n",
            "150000 60% (8m 24s) 0.2629 Devin / Irish OK\n",
            "162500 65% (8m 57s) 0.0181 Seif / Arabic OK\n",
            "175000 70% (9m 31s) 0.0355 Fei / Chinese OK\n",
            "187500 75% (10m 4s) 0.4833 Ma / Korean OK\n",
            "200000 80% (10m 38s) 0.0097 Callaghan / Irish OK\n",
            "212500 85% (11m 11s) 0.0094 Aucciello / Italian OK\n",
            "225000 90% (11m 45s) 2.0582 Michel / Dutch ERROR (Polish)\n",
            "237500 95% (12m 18s) 0.0179 Cavey / French OK\n",
            "250000 100% (12m 51s) 0.0018 Deeb / Arabic OK\n"
          ],
          "name": "stdout"
        }
      ]
    },
    {
      "cell_type": "markdown",
      "metadata": {
        "id": "9AKt-EeCIwJl",
        "colab_type": "text"
      },
      "source": [
        "## 7. Graficar resultados\n",
        "\n",
        "Graficar la función de pérdida para ambos modelos."
      ]
    },
    {
      "cell_type": "code",
      "metadata": {
        "id": "PbpFbS5l_k9l",
        "colab_type": "code",
        "colab": {
          "base_uri": "https://localhost:8080/",
          "height": 298
        },
        "outputId": "3b6ee388-9f23-4920-f7c8-63be2683ede3"
      },
      "source": [
        "# graficamos la curva de perdidas de entrenamiento \n",
        "plt.plot(all_losses, label = 'RNN')\n",
        "plt.title('Evolution Loss: RNN')"
      ],
      "execution_count": null,
      "outputs": [
        {
          "output_type": "execute_result",
          "data": {
            "text/plain": [
              "Text(0.5, 1.0, 'Evolution Loss: RNN')"
            ]
          },
          "metadata": {
            "tags": []
          },
          "execution_count": 201
        },
        {
          "output_type": "display_data",
          "data": {
            "image/png": "[encoded data removed]",
            "text/plain": [
              "<Figure size 432x288 with 1 Axes>"
            ]
          },
          "metadata": {
            "tags": [],
            "needs_background": "light"
          }
        }
      ]
    },
    {
      "cell_type": "code",
      "metadata": {
        "id": "eccpj6bhI8sT",
        "colab_type": "code",
        "colab": {
          "base_uri": "https://localhost:8080/",
          "height": 298
        },
        "outputId": "fed65aa0-741a-442b-a241-59d634ad11d1"
      },
      "source": [
        "# Analisis Grafico de la funcion de perdida\n",
        "plt.plot(all_losses2, label = 'LSTM')\n",
        "plt.title('Evolution Loss: LSTM')"
      ],
      "execution_count": null,
      "outputs": [
        {
          "output_type": "execute_result",
          "data": {
            "text/plain": [
              "Text(0.5, 1.0, 'Evolution Loss: LSTM')"
            ]
          },
          "metadata": {
            "tags": []
          },
          "execution_count": 202
        },
        {
          "output_type": "display_data",
          "data": {
            "image/png": "[encoded data removed]",
            "text/plain": [
              "<Figure size 432x288 with 1 Axes>"
            ]
          },
          "metadata": {
            "tags": [],
            "needs_background": "light"
          }
        }
      ]
    },
    {
      "cell_type": "markdown",
      "metadata": {
        "id": "Wxg3W7fKI91r",
        "colab_type": "text"
      },
      "source": [
        "### 7.1 Comparar los resultados\n",
        "\n",
        "Al revisar las graficas ambas tienen un comportamiento similar. Claro esta que la evolucion de perdida considerando LSTM es ampliamente mejor dado que obtiene valores muy pequeños con respecto a RNN. A simple vista, el modelo LSTM con el ajuste de tasas de aprendizaje y numero de iteraciones consigue resultados muy por sobre LSTM. Posteriormente, en el desarrollo de esta laboratorio verificaremos con metricas esta conclusion.\n",
        "\n",
        "Es importante señalar que lo que se pudo observar en el entrenamiento es que es mucho mas costoso en terminos computacionales LSTM, debido principalmente a su infraestructura y sus capas que interacturan y de que requiere un entrenamiento más intenso."
      ]
    },
    {
      "cell_type": "markdown",
      "metadata": {
        "id": "RF-bEDB0JGsb",
        "colab_type": "text"
      },
      "source": [
        "## 8. Evaluar los resultados\n",
        "\n",
        "Construir las **matrices de confusión** para los dos modelos (RNN y LSTM). Indicando en cada fila el idioma real y en las columnas el idioma predicho. Graficar matriz de confusión como la vista en clases."
      ]
    },
    {
      "cell_type": "code",
      "metadata": {
        "id": "mQBN_Xh5Jjfg",
        "colab_type": "code",
        "colab": {
          "base_uri": "https://localhost:8080/",
          "height": 320
        },
        "outputId": "06b23d72-1794-49c6-e066-74a1e80ab38a"
      },
      "source": [
        "# Para construir la matriz de confusion, reciclamos los codigos que se utilizaron en clases\n",
        "# solo se generan dos funciones para separar RNN y LSTM\n",
        "\n",
        "#Keep track of correct guesses in a confusion matrix\n",
        "confusion = torch.zeros(n_categories, n_categories)\n",
        "n_confusion = 10000\n",
        "\n",
        "# Just return an output given a line\n",
        "def evaluaternn(line_tensor):\n",
        "    hidden = rnn.initHidden()\n",
        "\n",
        "    for i in range(line_tensor.size()[0]):\n",
        "        output, hidden = rnn(line_tensor[i], hidden)\n",
        "\n",
        "    return output\n",
        "\n",
        "# Go through a bunch of examples and record which are correctly guessed\n",
        "for i in range(n_confusion):\n",
        "    category, line, category_tensor, line_tensor = randomTrainingExample()\n",
        "    output = evaluaternn(line_tensor)\n",
        "    guess, guess_i = categoryFromOutput(output)\n",
        "    category_i = all_categories.index(category)\n",
        "    confusion[category_i][guess_i] += 1\n",
        "\n",
        "# Normalize by dividing every row by its sum\n",
        "for i in range(n_categories):\n",
        "    confusion[i] = confusion[i] / confusion[i].sum()\n",
        "\n",
        "# Set up plot\n",
        "fig = plt.figure()\n",
        "ax = fig.add_subplot(111)\n",
        "cax = ax.matshow(confusion.numpy())\n",
        "fig.colorbar(cax)\n",
        "\n",
        "# Set up axes\n",
        "ax.set_xticklabels([''] + all_categories, rotation=90)\n",
        "ax.set_yticklabels([''] + all_categories)\n",
        "\n",
        "# Force label at every tick\n",
        "ax.xaxis.set_major_locator(ticker.MultipleLocator(1))\n",
        "ax.yaxis.set_major_locator(ticker.MultipleLocator(1))\n",
        "\n",
        "# sphinx_gallery_thumbnail_number = 2\n",
        "plt.show()"
      ],
      "execution_count": null,
      "outputs": [
        {
          "output_type": "display_data",
          "data": {
            "image/png": "[encoded data removed]",
            "text/plain": [
              "<Figure size 432x288 with 2 Axes>"
            ]
          },
          "metadata": {
            "tags": [],
            "needs_background": "light"
          }
        }
      ]
    },
    {
      "cell_type": "code",
      "metadata": {
        "id": "InhVtN7aF2f8",
        "colab_type": "code",
        "colab": {
          "base_uri": "https://localhost:8080/",
          "height": 320
        },
        "outputId": "0c838962-b15d-436f-d3de-9a6d6ba461d3"
      },
      "source": [
        "# Mismo procedimiento para LSTM\n",
        "\n",
        "#Keep track of correct guesses in a confusion matrix\n",
        "confusion = torch.zeros(n_categories, n_categories)\n",
        "n_confusion = 10000\n",
        "\n",
        "# Just return an output given a line\n",
        "def evaluatelstm(line_tensor):\n",
        "    lstm.hidden = lstm.init_hidden()\n",
        "    output = lstm(line_tensor)\n",
        "    return output\n",
        "\n",
        "# Go through a bunch of examples and record which are correctly guessed\n",
        "for i in range(n_confusion):\n",
        "    category, line, category_tensor, line_tensor = randomTrainingExample()\n",
        "    output = evaluatelstm(line_tensor)\n",
        "    guess, guess_i = categoryFromOutput(output)\n",
        "    category_i = all_categories.index(category)\n",
        "    confusion[category_i][guess_i] += 1\n",
        "\n",
        "# Normalize by dividing every row by its sum\n",
        "for i in range(n_categories):\n",
        "    confusion[i] = confusion[i] / confusion[i].sum()\n",
        "\n",
        "# Set up plot\n",
        "fig = plt.figure()\n",
        "ax = fig.add_subplot(111)\n",
        "cax = ax.matshow(confusion.numpy())\n",
        "fig.colorbar(cax)\n",
        "\n",
        "# Set up axes\n",
        "ax.set_xticklabels([''] + all_categories, rotation=90)\n",
        "ax.set_yticklabels([''] + all_categories)\n",
        "\n",
        "# Force label at every tick\n",
        "ax.xaxis.set_major_locator(ticker.MultipleLocator(1))\n",
        "ax.yaxis.set_major_locator(ticker.MultipleLocator(1))\n",
        "\n",
        "# sphinx_gallery_thumbnail_number = 2\n",
        "plt.show()"
      ],
      "execution_count": 216,
      "outputs": [
        {
          "output_type": "display_data",
          "data": {
            "image/png": "[encoded data removed]",
            "text/plain": [
              "<Figure size 432x288 with 2 Axes>"
            ]
          },
          "metadata": {
            "tags": [],
            "needs_background": "light"
          }
        }
      ]
    },
    {
      "cell_type": "markdown",
      "metadata": {
        "colab_type": "text",
        "id": "s-VkaQyhGiM1"
      },
      "source": [
        "### 8.1 Cálcular métricas\n",
        "\n",
        "Calcular tasa de acierto, presición, sensibilidad (recall) y f1-score para ambos modelos. Comparar sus resultados"
      ]
    },
    {
      "cell_type": "code",
      "metadata": {
        "id": "Ge4SQeajSPEK",
        "colab_type": "code",
        "colab": {
          "base_uri": "https://localhost:8080/",
          "height": 442
        },
        "outputId": "755e9dfa-62b5-48bc-8508-dc50c8f57a6a"
      },
      "source": [
        "# Metricas para RNN\n",
        "y_pred_rnn = []\n",
        "y_label_rnn = []\n",
        "for iter in range(1, 10000+1):\n",
        "  # Obtener una categoria y una palabra de forma aleatoria\n",
        "  category, line, category_tensor, line_tensor = randomTrainingExample()\n",
        "  label, label_id = categoryFromOutput(evaluaternn(line_tensor))\n",
        "  y_pred_rnn.append(label)\n",
        "  y_label_rnn.append(category)\n",
        "\n",
        "print(classification_report(y_label_rnn, y_pred_rnn, target_names=all_categories))\n"
      ],
      "execution_count": null,
      "outputs": [
        {
          "output_type": "stream",
          "text": [
            "              precision    recall  f1-score   support\n",
            "\n",
            "      German       0.64      0.70      0.67       562\n",
            "      Korean       0.57      0.74      0.65       573\n",
            "     Italian       0.37      0.39      0.38       531\n",
            "  Portuguese       0.47      0.47      0.47       561\n",
            "      French       0.43      0.25      0.32       518\n",
            "    Japanese       0.48      0.60      0.53       557\n",
            "  Vietnamese       0.51      0.44      0.48       573\n",
            "      Polish       0.76      0.82      0.79       549\n",
            "       Dutch       0.54      0.64      0.59       569\n",
            "     Spanish       0.74      0.56      0.64       568\n",
            "     Russian       0.70      0.79      0.74       561\n",
            "       Irish       0.66      0.66      0.66       554\n",
            "    Scottish       0.76      0.67      0.71       600\n",
            "       Czech       0.62      0.63      0.63       545\n",
            "     Chinese       0.75      0.70      0.72       555\n",
            "     English       0.61      0.49      0.54       543\n",
            "      Arabic       0.46      0.49      0.47       536\n",
            "       Greek       0.76      0.74      0.75       545\n",
            "\n",
            "    accuracy                           0.60     10000\n",
            "   macro avg       0.60      0.60      0.60     10000\n",
            "weighted avg       0.60      0.60      0.60     10000\n",
            "\n"
          ],
          "name": "stdout"
        }
      ]
    },
    {
      "cell_type": "code",
      "metadata": {
        "id": "64I5Kjxyfozc",
        "colab_type": "code",
        "colab": {
          "base_uri": "https://localhost:8080/",
          "height": 442
        },
        "outputId": "bdcdc844-bac5-4358-f1f1-95417e231f70"
      },
      "source": [
        "# Metricas para lstm\n",
        "y_pred_lstm = []\n",
        "y_label_lstm = []\n",
        "for iter in range(1, 10000+1):\n",
        "  # Obtener una categoria y una palabra de forma aleatoria\n",
        "  category, line, category_tensor, line_tensor = randomTrainingExample()\n",
        "  label, label_id = categoryFromOutput(evaluatelstm(line_tensor))\n",
        "  y_pred_lstm.append(label)\n",
        "  y_label_lstm.append(category)\n",
        "\n",
        "print(classification_report(y_label_lstm, y_pred_lstm, target_names=all_categories))"
      ],
      "execution_count": null,
      "outputs": [
        {
          "output_type": "stream",
          "text": [
            "              precision    recall  f1-score   support\n",
            "\n",
            "      German       0.99      1.00      0.99       573\n",
            "      Korean       0.90      0.92      0.91       582\n",
            "     Italian       0.96      0.92      0.94       570\n",
            "  Portuguese       0.94      0.96      0.95       561\n",
            "      French       0.85      0.86      0.86       559\n",
            "    Japanese       0.90      0.96      0.93       544\n",
            "  Vietnamese       0.91      0.90      0.91       572\n",
            "      Polish       1.00      0.99      1.00       555\n",
            "       Dutch       0.98      0.93      0.95       589\n",
            "     Spanish       0.93      0.94      0.93       560\n",
            "     Russian       0.99      0.97      0.98       547\n",
            "       Irish       0.93      0.88      0.90       542\n",
            "    Scottish       0.97      0.97      0.97       549\n",
            "       Czech       0.84      0.96      0.89       528\n",
            "     Chinese       0.98      0.89      0.94       574\n",
            "     English       0.93      0.94      0.93       529\n",
            "      Arabic       0.88      0.81      0.85       556\n",
            "       Greek       0.90      0.98      0.94       510\n",
            "\n",
            "    accuracy                           0.93     10000\n",
            "   macro avg       0.93      0.93      0.93     10000\n",
            "weighted avg       0.93      0.93      0.93     10000\n",
            "\n"
          ],
          "name": "stdout"
        }
      ]
    },
    {
      "cell_type": "markdown",
      "metadata": {
        "colab_type": "text",
        "id": "xXDcU_L1Gtz8"
      },
      "source": [
        "### 8.2 Comparar los resultados\n",
        "En general, tal como se vio en la curva de pérdidas de entrenamiento, la visualización de la matriz de confusión y el cálculo de las métricas en terminos agregados LSTM esta muy por sobre RNN. En ese sentido el accuracy de LSTM es 0,93 respecto de 0,6 de RNN.\n",
        "En consecuencia el modelo LSTM explica muy bien este problema de lenguaje natural, asi lo demuestran todas las metricas y se destaca que en todas las clases demuestra buenos resultados, esto sirve para confirmar que teoricamente las LSTM explican muy bien problemas de NLP debido a que estos analisis se basan en analizar palabras de forma de secuencia."
      ]
    },
    {
      "cell_type": "markdown",
      "metadata": {
        "id": "wS0Kj_8vKFQ1",
        "colab_type": "text"
      },
      "source": [
        "## 9. Probar ambos modelos\n",
        "\n",
        "Probar ambos modelos con las palabras: Dovesky, Jackson, Satoshi, Bekios y su apellido o nombre."
      ]
    },
    {
      "cell_type": "code",
      "metadata": {
        "id": "dFL2k2zllCEg",
        "colab_type": "code",
        "colab": {}
      },
      "source": [
        "lista = ['Dovesky', 'Jackson', 'Satoshi', 'Bekios', 'Ortega']"
      ],
      "execution_count": null,
      "outputs": []
    },
    {
      "cell_type": "markdown",
      "metadata": {
        "id": "mNU1X9uljJ7H",
        "colab_type": "text"
      },
      "source": [
        "Modelo RNN"
      ]
    },
    {
      "cell_type": "code",
      "metadata": {
        "id": "Ksh3aK-MKXp0",
        "colab_type": "code",
        "colab": {
          "base_uri": "https://localhost:8080/",
          "height": 102
        },
        "outputId": "0880afc9-d494-4f3f-cf5b-f04f0cff24e4"
      },
      "source": [
        "for i in lista:\n",
        "  print(\"{}----> el origen segun RNN es: {}\".format(i, categoryFromOutput(evaluaternn(lineToTensor(i)))[0]))"
      ],
      "execution_count": null,
      "outputs": [
        {
          "output_type": "stream",
          "text": [
            "Dovesky----> el origen segun RNN es: Czech\n",
            "Jackson----> el origen segun RNN es: Scottish\n",
            "Satoshi----> el origen segun RNN es: Italian\n",
            "Bekios----> el origen segun RNN es: Greek\n",
            "Ortega----> el origen segun RNN es: Spanish\n"
          ],
          "name": "stdout"
        }
      ]
    },
    {
      "cell_type": "markdown",
      "metadata": {
        "id": "0eoBCUXdk4Vc",
        "colab_type": "text"
      },
      "source": [
        "Modelo LSTM"
      ]
    },
    {
      "cell_type": "code",
      "metadata": {
        "id": "KopTAh3rhzzC",
        "colab_type": "code",
        "colab": {
          "base_uri": "https://localhost:8080/",
          "height": 102
        },
        "outputId": "8e8b3e96-4f50-4f12-acbf-f377828bcb9d"
      },
      "source": [
        "for j in lista:\n",
        "  print(\"{}----> el origen segun LSTM es: {}\".format(j, categoryFromOutput(evaluatelstm(lineToTensor(j)))[0]))"
      ],
      "execution_count": null,
      "outputs": [
        {
          "output_type": "stream",
          "text": [
            "Dovesky----> el origen segun LSTM es: Russian\n",
            "Jackson----> el origen segun LSTM es: Scottish\n",
            "Satoshi----> el origen segun LSTM es: Japanese\n",
            "Bekios----> el origen segun LSTM es: Greek\n",
            "Ortega----> el origen segun LSTM es: Spanish\n"
          ],
          "name": "stdout"
        }
      ]
    },
    {
      "cell_type": "markdown",
      "metadata": {
        "id": "GUROeGxepO0b",
        "colab_type": "text"
      },
      "source": [
        "Referencias"
      ]
    },
    {
      "cell_type": "markdown",
      "metadata": {
        "id": "3x6yFabxz04P",
        "colab_type": "text"
      },
      "source": [
        "https://github.com/yk287/Name_Classification\n",
        "https://pytorch.org/tutorials/intermediate/char_rnn_classification_tutorial.html\n",
        "https://github.com/spro/practical-pytorch\n",
        "https://github.com/JB1984/PyTorch-LSTM-Name-Classification/blob/master/classifyNamesLSTMRNN.py\n",
        "http://colah.github.io/posts/2015-08-Understanding-LSTMs/"
      ]
    }
  ]
}